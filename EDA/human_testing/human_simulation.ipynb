{
 "cells": [
  {
   "cell_type": "code",
   "execution_count": 7,
   "id": "af2443c8",
   "metadata": {},
   "outputs": [],
   "source": [
    "import numpy\n",
    "import pandas as pd\n",
    "import json\n",
    "import requests\n",
    "import seaborn as sns\n",
    "import matplotlib.pyplot as plt\n"
   ]
  },
  {
   "cell_type": "code",
   "execution_count": 5,
   "id": "cd006e82",
   "metadata": {},
   "outputs": [],
   "source": [
    "test = pd.read_csv('human_test.csv')"
   ]
  },
  {
   "cell_type": "code",
   "execution_count": 6,
   "id": "78c6b66a",
   "metadata": {},
   "outputs": [
    {
     "name": "stderr",
     "output_type": "stream",
     "text": [
      "/Users/liytu/opt/anaconda3/envs/pytorch/lib/python3.9/site-packages/scipy/__init__.py:146: UserWarning: A NumPy version >=1.16.5 and <1.23.0 is required for this version of SciPy (detected version 1.23.3\n",
      "  warnings.warn(f\"A NumPy version >={np_minversion} and <{np_maxversion}\"\n"
     ]
    },
    {
     "name": "stdout",
     "output_type": "stream",
     "text": [
      "Kappa between arr1 and arr2: 0.633\n",
      "Kappa between arr1 and arr3: 0.569\n",
      "Kappa between arr2 and arr3: 0.511\n",
      "Average Kappa: 0.571\n"
     ]
    }
   ],
   "source": [
    "import numpy as np\n",
    "from sklearn.metrics import cohen_kappa_score\n",
    "\n",
    "# Create example arrays\n",
    "arr1 = np.array(test['Jack'])\n",
    "arr2 = np.array(test['Leo'])\n",
    "arr3 = np.array(test['Sam'])\n",
    "\n",
    "# Calculate Cohen's Kappa for each pair\n",
    "kappa_12 = cohen_kappa_score(arr1, arr2)\n",
    "kappa_13 = cohen_kappa_score(arr1, arr3)\n",
    "kappa_23 = cohen_kappa_score(arr2, arr3)\n",
    "\n",
    "# Print the results\n",
    "print(f\"Kappa between arr1 and arr2: {kappa_12:.3f}\")\n",
    "print(f\"Kappa between arr1 and arr3: {kappa_13:.3f}\")\n",
    "print(f\"Kappa between arr2 and arr3: {kappa_23:.3f}\")\n",
    "\n",
    "# Average the Kappa scores\n",
    "average_kappa = (kappa_12 + kappa_13 + kappa_23) / 3\n",
    "print(f\"Average Kappa: {average_kappa:.3f}\")\n",
    "\n"
   ]
  },
  {
   "cell_type": "code",
   "execution_count": 29,
   "id": "5eceaee5",
   "metadata": {},
   "outputs": [
    {
     "data": {
      "image/png": "[encoded data removed]",
      "text/plain": [
       "<Figure size 1080x720 with 1 Axes>"
      ]
     },
     "metadata": {
      "needs_background": "light"
     },
     "output_type": "display_data"
    }
   ],
   "source": [
    "human_sti = np.array([22, 23, 24])\n",
    "gpt_no_context = np.array([23, 23, 23])\n",
    "majority = np.array([26, 26, 26])\n",
    "gpt_with_context = np.array([24, 24, 24])\n",
    "\n",
    "data_to_plot = {\n",
    "    \"counts\": np.concatenate([human_sti, majority, gpt_no_context, gpt_with_context]),\n",
    "    \"names\": [\"Human\"] * 3 + [\"Human majority vote\"] * 3 + [\"GPT 4.0 no context\"] * 3 + [\"GPT 4.0 with context\"] * 3 \n",
    "}\n",
    "\n",
    "colors = [ '#A9DBB8', '#C6EBBE', '#38369A', '#7CA5B8']\n",
    "\n",
    "fig, ax = plt.subplots(sharex=True, figsize=(15, 10))\n",
    "sns.barplot(x=\"names\", y=\"counts\", data=data_to_plot, errorbar=\"sd\", palette = colors,)\n",
    "plt.tick_params(axis='x', which='major', labelsize=20)\n",
    "plt.tick_params(axis='y', which='major', labelsize=30)\n",
    "ax.spines['right'].set_visible(False)\n",
    "ax.spines['top'].set_visible(False)\n",
    "plt.ylim([0, 30])\n",
    "\n",
    "plt.ylabel(\"Value\")\n",
    "plt.savefig('f1.png', dpi=500)"
   ]
  },
  {
   "cell_type": "code",
   "execution_count": null,
   "id": "5b91fe80",
   "metadata": {},
   "outputs": [],
   "source": []
  },
  {
   "cell_type": "code",
   "execution_count": 2,
   "id": "906786a9",
   "metadata": {},
   "outputs": [
    {
     "data": {
      "text/html": [
       "<div>\n",
       "<style scoped>\n",
       "    .dataframe tbody tr th:only-of-type {\n",
       "        vertical-align: middle;\n",
       "    }\n",
       "\n",
       "    .dataframe tbody tr th {\n",
       "        vertical-align: top;\n",
       "    }\n",
       "\n",
       "    .dataframe thead th {\n",
       "        text-align: right;\n",
       "    }\n",
       "</style>\n",
       "<table border=\"1\" class=\"dataframe\">\n",
       "  <thead>\n",
       "    <tr style=\"text-align: right;\">\n",
       "      <th></th>\n",
       "      <th>video</th>\n",
       "      <th>context</th>\n",
       "      <th>utterance</th>\n",
       "      <th>sarcasm</th>\n",
       "    </tr>\n",
       "  </thead>\n",
       "  <tbody>\n",
       "    <tr>\n",
       "      <th>0</th>\n",
       "      <td>1_60</td>\n",
       "      <td>[I never would have identified the fingerprint...</td>\n",
       "      <td>It's just a privilege to watch your mind at work.</td>\n",
       "      <td>True</td>\n",
       "    </tr>\n",
       "    <tr>\n",
       "      <th>1</th>\n",
       "      <td>1_70</td>\n",
       "      <td>[This is one of my favorite places to kick bac...</td>\n",
       "      <td>I don't think I'll be able to stop thinking ab...</td>\n",
       "      <td>True</td>\n",
       "    </tr>\n",
       "    <tr>\n",
       "      <th>2</th>\n",
       "      <td>1_80</td>\n",
       "      <td>[Here we go. Pad thai, no peanuts., But does i...</td>\n",
       "      <td>Since it's not bee season, you can have my epi...</td>\n",
       "      <td>False</td>\n",
       "    </tr>\n",
       "    <tr>\n",
       "      <th>3</th>\n",
       "      <td>1_90</td>\n",
       "      <td>[A marathon? How many Superman movies are ther...</td>\n",
       "      <td>Lois Lane is falling, accelerating at an initi...</td>\n",
       "      <td>False</td>\n",
       "    </tr>\n",
       "    <tr>\n",
       "      <th>4</th>\n",
       "      <td>1_105</td>\n",
       "      <td>[Great Caesar's ghost, look at this place., So...</td>\n",
       "      <td>I'm just inferring this is a couch because the...</td>\n",
       "      <td>True</td>\n",
       "    </tr>\n",
       "    <tr>\n",
       "      <th>5</th>\n",
       "      <td>1_162</td>\n",
       "      <td>[On the other hand, no arousal., None?, None.,...</td>\n",
       "      <td>Sheldon, if you were a robot, and I knew and y...</td>\n",
       "      <td>False</td>\n",
       "    </tr>\n",
       "    <tr>\n",
       "      <th>6</th>\n",
       "      <td>1_175</td>\n",
       "      <td>[Oh, good Lord., God, that's a good song.]</td>\n",
       "      <td>If you're compiling a mix CD for a double suic...</td>\n",
       "      <td>True</td>\n",
       "    </tr>\n",
       "    <tr>\n",
       "      <th>7</th>\n",
       "      <td>1_182</td>\n",
       "      <td>[How do I look?, Could you be more specific?, ...</td>\n",
       "      <td>No. The dark crescent-shaped patterns under yo...</td>\n",
       "      <td>True</td>\n",
       "    </tr>\n",
       "    <tr>\n",
       "      <th>8</th>\n",
       "      <td>1_213</td>\n",
       "      <td>[You know, I am not going to enjoy this party....</td>\n",
       "      <td>How's this? \"Pleased to meet you, Dr. Gablehau...</td>\n",
       "      <td>True</td>\n",
       "    </tr>\n",
       "    <tr>\n",
       "      <th>9</th>\n",
       "      <td>1_276</td>\n",
       "      <td>[He switched over to high-energy radiation res...</td>\n",
       "      <td>Yeah, my parents felt that naming me Leonard a...</td>\n",
       "      <td>True</td>\n",
       "    </tr>\n",
       "    <tr>\n",
       "      <th>10</th>\n",
       "      <td>1_340</td>\n",
       "      <td>[And I cannot believe people pay for horoscope...</td>\n",
       "      <td>Sure, cut the foreigner in half. There's a bil...</td>\n",
       "      <td>True</td>\n",
       "    </tr>\n",
       "  </tbody>\n",
       "</table>\n",
       "</div>"
      ],
      "text/plain": [
       "    video                                            context  \\\n",
       "0    1_60  [I never would have identified the fingerprint...   \n",
       "1    1_70  [This is one of my favorite places to kick bac...   \n",
       "2    1_80  [Here we go. Pad thai, no peanuts., But does i...   \n",
       "3    1_90  [A marathon? How many Superman movies are ther...   \n",
       "4   1_105  [Great Caesar's ghost, look at this place., So...   \n",
       "5   1_162  [On the other hand, no arousal., None?, None.,...   \n",
       "6   1_175         [Oh, good Lord., God, that's a good song.]   \n",
       "7   1_182  [How do I look?, Could you be more specific?, ...   \n",
       "8   1_213  [You know, I am not going to enjoy this party....   \n",
       "9   1_276  [He switched over to high-energy radiation res...   \n",
       "10  1_340  [And I cannot believe people pay for horoscope...   \n",
       "\n",
       "                                            utterance sarcasm  \n",
       "0   It's just a privilege to watch your mind at work.    True  \n",
       "1   I don't think I'll be able to stop thinking ab...    True  \n",
       "2   Since it's not bee season, you can have my epi...   False  \n",
       "3   Lois Lane is falling, accelerating at an initi...   False  \n",
       "4   I'm just inferring this is a couch because the...    True  \n",
       "5   Sheldon, if you were a robot, and I knew and y...   False  \n",
       "6   If you're compiling a mix CD for a double suic...    True  \n",
       "7   No. The dark crescent-shaped patterns under yo...    True  \n",
       "8   How's this? \"Pleased to meet you, Dr. Gablehau...    True  \n",
       "9   Yeah, my parents felt that naming me Leonard a...    True  \n",
       "10  Sure, cut the foreigner in half. There's a bil...    True  "
      ]
     },
     "execution_count": 2,
     "metadata": {},
     "output_type": "execute_result"
    }
   ],
   "source": [
    "# Load the JSON data from the file\n",
    "with open('sarcasm_data.json', 'r') as file:\n",
    "    data = dict(json.load(file))\n",
    "\n",
    "\n",
    "# df = pd.DataFrame(list(data.items()), columns=['Key', 'Values'])\n",
    "df = pd.DataFrame(data).T\n",
    "df=df.reset_index()\n",
    "df=df.rename(columns={'index': 'video'})\n",
    "df.loc[:10,['video','context','utterance','sarcasm']]\n"
   ]
  }
 ],
 "metadata": {
  "kernelspec": {
   "display_name": "pytorch",
   "language": "python",
   "name": "pytorch"
  },
  "language_info": {
   "codemirror_mode": {
    "name": "ipython",
    "version": 3
   },
   "file_extension": ".py",
   "mimetype": "text/x-python",
   "name": "python",
   "nbconvert_exporter": "python",
   "pygments_lexer": "ipython3",
   "version": "3.9.16"
  }
 },
 "nbformat": 4,
 "nbformat_minor": 5
}
